{
 "cells": [
  {
   "cell_type": "code",
   "execution_count": 1,
   "id": "d645f0df",
   "metadata": {},
   "outputs": [],
   "source": [
    "from utils_db import *\n",
    "import eikon as ek"
   ]
  },
  {
   "cell_type": "code",
   "execution_count": 7,
   "id": "3b5c3b1d",
   "metadata": {},
   "outputs": [
    {
     "name": "stdout",
     "output_type": "stream",
     "text": [
      "In total the data has records on 913 fridays\n",
      "In total the data has records on 913 fridays\n",
      "In total the data has records on 913 fridays\n",
      "In total the data has records on 913 fridays\n",
      "In total the data has records on 913 fridays\n",
      "In total the data has records on 913 fridays\n",
      "In total the data has records on 913 fridays\n",
      "In total the data has records on 913 fridays\n",
      "In total the data has records on 170 fridays\n",
      "In total the data has records on 913 fridays\n",
      "In total the data has records on 913 fridays\n",
      "In total the data has records on 913 fridays\n",
      "In total the data has records on 913 fridays\n"
     ]
    }
   ],
   "source": [
    "ek.set_app_key('51dd084a4cea45dab6ac09cdbfe75cd83d17caa8')\n",
    "con = api_connector()\n",
    "def pct_chg(df):\n",
    "    df = df.pct_change().dropna(how='all')\n",
    "    return df \n",
    "\n",
    "data_ls = []\n",
    "for i in range(0, len(ric_dict['hk_industry_group']), 2):\n",
    "    start_date = ['2000-01-01', '2015-06-24']\n",
    "    end_date = ['2015-06-01', '2022-06-10']\n",
    "#     df = con.get_group_data('hk_industry_group',rics=[ric_dict['hk_industry_group'][0]], \n",
    "#                             proc_func=pct_chg, api_func=ek.get_timeseries, fields='CLOSE', interval='weekly',\n",
    "#                             start_date='2005-01-01', end_date = end_date[1])\n",
    "    df = con.get_group_data('hk_industry_group',rics=ric_dict['hk_industry_group'][i:i+2], \n",
    "                                proc_func=pct_chg, api_func=ek.get_timeseries, fields='CLOSE', interval='weekly',\n",
    "                                start_date='2004-12-28')\n",
    "    data_ls.append(df)\n",
    "#     for j in range(1):\n",
    "#         df = con.get_group_data('hk_industry_group',rics=ric_dict['hk_industry_group'][i:i+2], \n",
    "#                                 proc_func=pct_chg, api_func=ek.get_timeseries, fields='CLOSE', interval='weekly',\n",
    "#                                 start_date=start_date[j], end_date = end_date[j])\n",
    "#         data_ls.append(df)\n",
    "        # con.get_api2(func=ek.get_timeseries, rics=ric_dict['cn_sector'], fields='CLOSE', \n",
    "#                                      start_date='2022-06-24')\n",
    "alldata = pd.concat(data_ls)"
   ]
  },
  {
   "cell_type": "code",
   "execution_count": 11,
   "id": "aa991802",
   "metadata": {},
   "outputs": [
    {
     "name": "stdout",
     "output_type": "stream",
     "text": [
      "code        .TRXFLDHKTA1  .TRXFLDHKTC1  .TRXFLDHKTE1  .TRXFLDHKTE2  \\\n",
      "date                                                                 \n",
      "2022-04-29      0.067916     -0.023433     -0.000706      0.001806   \n",
      "2022-05-06     -0.048246     -0.019066     -0.011957     -0.047333   \n",
      "2022-05-13     -0.114439     -0.005818     -0.016474      0.027681   \n",
      "2022-05-20      0.116219      0.026599      0.048940      0.117562   \n",
      "2022-05-27     -0.078477      0.012307      0.057749     -0.004975   \n",
      "2022-06-03      0.094435     -0.001408     -0.000517      0.047049   \n",
      "2022-06-10      0.269646     -0.012047      0.032933      0.087481   \n",
      "2022-06-17      0.283374     -0.011545     -0.078189     -0.063961   \n",
      "2022-06-24     -0.066194     -0.011417     -0.042908      0.076253   \n",
      "2022-07-01      0.024810      0.003850      0.036895     -0.028250   \n",
      "\n",
      "code        .TRXFLDHKTF1  .TRXFLDHKTF3  .TRXFLDHKTF4  .TRXFLDHKTH1  \\\n",
      "date                                                                 \n",
      "2022-04-29     -0.042293     -0.012999     -0.006495      0.028853   \n",
      "2022-05-06     -0.017792     -0.048173     -0.031678     -0.103690   \n",
      "2022-05-13     -0.012069     -0.015582     -0.008470      0.024976   \n",
      "2022-05-20      0.025552      0.076865      0.035541      0.078458   \n",
      "2022-05-27      0.026605     -0.002822     -0.015259     -0.057604   \n",
      "2022-06-03      0.003125      0.008373      0.001176      0.071927   \n",
      "2022-06-10     -0.013187      0.019179     -0.010087      0.096596   \n",
      "2022-06-17     -0.008271      0.000574     -0.044489     -0.012552   \n",
      "2022-06-24      0.020223      0.025803      0.057269      0.153104   \n",
      "2022-07-01      0.021444      0.036557      0.033804      0.000394   \n",
      "\n",
      "code        .TRXFLDHKTH2  .TRXFLDHKTI1  ...  .TRXFLDHKTN1  .TRXFLDHKTN2  \\\n",
      "date                                    ...                               \n",
      "2022-04-29      0.019796     -0.023480  ...      0.000598      0.001502   \n",
      "2022-05-06     -0.103984     -0.081481  ...     -0.063150     -0.033626   \n",
      "2022-05-13     -0.024657      0.026940  ...      0.022967      0.000222   \n",
      "2022-05-20      0.070909      0.017678  ...      0.030854      0.012630   \n",
      "2022-05-27     -0.049089      0.016899  ...     -0.001958      0.026586   \n",
      "2022-06-03      0.031605      0.025307  ...      0.040438      0.005542   \n",
      "2022-06-10      0.111107      0.023942  ...     -0.007298     -0.008267   \n",
      "2022-06-17     -0.038152     -0.127476  ...     -0.023028     -0.027787   \n",
      "2022-06-24      0.150560      0.039138  ...      0.066427      0.029021   \n",
      "2022-07-01     -0.031449     -0.014046  ...      0.042604      0.030445   \n",
      "\n",
      "code        .TRXFLDHKTN3  .TRXFLDHKTT1  .TRXFLDHKTT2  .TRXFLDHKTU1  \\\n",
      "date                                                                 \n",
      "2022-04-29      0.024674      0.039917      0.141909     -0.001112   \n",
      "2022-05-06     -0.039465     -0.068555     -0.091320     -0.024427   \n",
      "2022-05-13      0.030409      0.002512     -0.013273      0.010940   \n",
      "2022-05-20      0.025907      0.058061      0.040115      0.036719   \n",
      "2022-05-27     -0.004392     -0.013051     -0.007159      0.004992   \n",
      "2022-06-03      0.001985      0.036301      0.046988      0.020629   \n",
      "2022-06-10     -0.001101      0.027590      0.135637     -0.016743   \n",
      "2022-06-17     -0.009035     -0.045980     -0.063778     -0.042462   \n",
      "2022-06-24      0.036691      0.024575      0.048689      0.008083   \n",
      "2022-07-01      0.012441      0.061117     -0.039155      0.013893   \n",
      "\n",
      "code        .TRXFLDHKTY1  .TRXFLDHKTY2  .TRXFLDHKTY3  .TRXFLDHKTY4  \n",
      "date                                                                \n",
      "2022-04-29      0.043683      0.017712      0.042885      0.218721  \n",
      "2022-05-06     -0.072099     -0.081107     -0.069788     -0.137349  \n",
      "2022-05-13      0.028473      0.022265     -0.037353     -0.086125  \n",
      "2022-05-20      0.113507      0.029730      0.037435      0.073931  \n",
      "2022-05-27     -0.010403     -0.048775     -0.019087     -0.017704  \n",
      "2022-06-03      0.072529      0.069211      0.049805      0.063305  \n",
      "2022-06-10      0.104549      0.029305      0.055563      0.115430  \n",
      "2022-06-17     -0.016352     -0.055459     -0.051091      0.027253  \n",
      "2022-06-24      0.134468      0.064853      0.050009     -0.027355  \n",
      "2022-07-01     -0.026057      0.051532      0.122571      0.013167  \n",
      "\n",
      "[10 rows x 25 columns]\n",
      "Save file? Y\n",
      "File (.\\input\\sector\\hk_industry_group_weekly.csv) updated. \n"
     ]
    }
   ],
   "source": [
    "save_local(alldata, r'.\\input\\sector\\hk_industry_group_weekly.csv')"
   ]
  },
  {
   "cell_type": "code",
   "execution_count": 10,
   "id": "b9d0ef03",
   "metadata": {},
   "outputs": [
    {
     "name": "stdout",
     "output_type": "stream",
     "text": [
      "Uploaded 15826/15826 records into table [SectorRotationRet].\n"
     ]
    }
   ],
   "source": [
    "upload_data(alldata)"
   ]
  },
  {
   "cell_type": "code",
   "execution_count": 6,
   "id": "e522f5dd",
   "metadata": {},
   "outputs": [
    {
     "name": "stderr",
     "output_type": "stream",
     "text": [
      "C:\\Users\\arizonazhang\\OneDrive - hkaift\\research\\sector-rotation-github\\utils_db_upload.py:385: SAWarning: Can't validate argument 'replace_string'; can't locate any SQLAlchemy dialect named 'replace'\n",
      "  conn.execute(table.table.insert(replace_string=\"\"), data)\n"
     ]
    }
   ],
   "source": [
    "df = pd.read_csv(r'.\\input\\rhk_tickers.csv')\n",
    "df\n",
    "new_code_name(df)"
   ]
  },
  {
   "cell_type": "code",
   "execution_count": 8,
   "id": "8f53b5c2",
   "metadata": {},
   "outputs": [
    {
     "name": "stdout",
     "output_type": "stream",
     "text": [
      "In total the data has records on 912 fridays\n"
     ]
    },
    {
     "data": {
      "text/html": [
       "<div>\n",
       "<style scoped>\n",
       "    .dataframe tbody tr th:only-of-type {\n",
       "        vertical-align: middle;\n",
       "    }\n",
       "\n",
       "    .dataframe tbody tr th {\n",
       "        vertical-align: top;\n",
       "    }\n",
       "\n",
       "    .dataframe thead th {\n",
       "        text-align: right;\n",
       "    }\n",
       "</style>\n",
       "<table border=\"1\" class=\"dataframe\">\n",
       "  <thead>\n",
       "    <tr style=\"text-align: right;\">\n",
       "      <th></th>\n",
       "      <th>date</th>\n",
       "      <th>code</th>\n",
       "      <th>value</th>\n",
       "      <th>markets</th>\n",
       "      <th>name</th>\n",
       "      <th>side</th>\n",
       "    </tr>\n",
       "  </thead>\n",
       "  <tbody>\n",
       "    <tr>\n",
       "      <th>0</th>\n",
       "      <td>2005-01-14</td>\n",
       "      <td>.TRXFLDHKTE1</td>\n",
       "      <td>-0.010032</td>\n",
       "      <td>hk_industry_group</td>\n",
       "      <td>Energy - Fossil Fuels</td>\n",
       "      <td>NA</td>\n",
       "    </tr>\n",
       "    <tr>\n",
       "      <th>1</th>\n",
       "      <td>2005-01-21</td>\n",
       "      <td>.TRXFLDHKTE1</td>\n",
       "      <td>0.032489</td>\n",
       "      <td>hk_industry_group</td>\n",
       "      <td>Energy - Fossil Fuels</td>\n",
       "      <td>NA</td>\n",
       "    </tr>\n",
       "    <tr>\n",
       "      <th>2</th>\n",
       "      <td>2005-01-28</td>\n",
       "      <td>.TRXFLDHKTE1</td>\n",
       "      <td>0.018955</td>\n",
       "      <td>hk_industry_group</td>\n",
       "      <td>Energy - Fossil Fuels</td>\n",
       "      <td>NA</td>\n",
       "    </tr>\n",
       "    <tr>\n",
       "      <th>3</th>\n",
       "      <td>2005-02-04</td>\n",
       "      <td>.TRXFLDHKTE1</td>\n",
       "      <td>-0.062766</td>\n",
       "      <td>hk_industry_group</td>\n",
       "      <td>Energy - Fossil Fuels</td>\n",
       "      <td>NA</td>\n",
       "    </tr>\n",
       "    <tr>\n",
       "      <th>4</th>\n",
       "      <td>2005-02-11</td>\n",
       "      <td>.TRXFLDHKTE1</td>\n",
       "      <td>0.031665</td>\n",
       "      <td>hk_industry_group</td>\n",
       "      <td>Energy - Fossil Fuels</td>\n",
       "      <td>NA</td>\n",
       "    </tr>\n",
       "    <tr>\n",
       "      <th>...</th>\n",
       "      <td>...</td>\n",
       "      <td>...</td>\n",
       "      <td>...</td>\n",
       "      <td>...</td>\n",
       "      <td>...</td>\n",
       "      <td>...</td>\n",
       "    </tr>\n",
       "    <tr>\n",
       "      <th>1354</th>\n",
       "      <td>2022-06-17</td>\n",
       "      <td>.TRXFLDHKTE2</td>\n",
       "      <td>-0.063961</td>\n",
       "      <td>hk_industry_group</td>\n",
       "      <td>Renewable Energy</td>\n",
       "      <td>NA</td>\n",
       "    </tr>\n",
       "    <tr>\n",
       "      <th>1355</th>\n",
       "      <td>2022-06-24</td>\n",
       "      <td>.TRXFLDHKTE1</td>\n",
       "      <td>-0.042908</td>\n",
       "      <td>hk_industry_group</td>\n",
       "      <td>Energy - Fossil Fuels</td>\n",
       "      <td>NA</td>\n",
       "    </tr>\n",
       "    <tr>\n",
       "      <th>1356</th>\n",
       "      <td>2022-06-24</td>\n",
       "      <td>.TRXFLDHKTE2</td>\n",
       "      <td>0.076253</td>\n",
       "      <td>hk_industry_group</td>\n",
       "      <td>Renewable Energy</td>\n",
       "      <td>NA</td>\n",
       "    </tr>\n",
       "    <tr>\n",
       "      <th>1357</th>\n",
       "      <td>2022-07-01</td>\n",
       "      <td>.TRXFLDHKTE1</td>\n",
       "      <td>0.036895</td>\n",
       "      <td>hk_industry_group</td>\n",
       "      <td>Energy - Fossil Fuels</td>\n",
       "      <td>NA</td>\n",
       "    </tr>\n",
       "    <tr>\n",
       "      <th>1358</th>\n",
       "      <td>2022-07-01</td>\n",
       "      <td>.TRXFLDHKTE2</td>\n",
       "      <td>-0.02825</td>\n",
       "      <td>hk_industry_group</td>\n",
       "      <td>Renewable Energy</td>\n",
       "      <td>NA</td>\n",
       "    </tr>\n",
       "  </tbody>\n",
       "</table>\n",
       "<p>1359 rows × 6 columns</p>\n",
       "</div>"
      ],
      "text/plain": [
       "           date          code     value            markets  \\\n",
       "0    2005-01-14  .TRXFLDHKTE1 -0.010032  hk_industry_group   \n",
       "1    2005-01-21  .TRXFLDHKTE1  0.032489  hk_industry_group   \n",
       "2    2005-01-28  .TRXFLDHKTE1  0.018955  hk_industry_group   \n",
       "3    2005-02-04  .TRXFLDHKTE1 -0.062766  hk_industry_group   \n",
       "4    2005-02-11  .TRXFLDHKTE1  0.031665  hk_industry_group   \n",
       "...         ...           ...       ...                ...   \n",
       "1354 2022-06-17  .TRXFLDHKTE2 -0.063961  hk_industry_group   \n",
       "1355 2022-06-24  .TRXFLDHKTE1 -0.042908  hk_industry_group   \n",
       "1356 2022-06-24  .TRXFLDHKTE2  0.076253  hk_industry_group   \n",
       "1357 2022-07-01  .TRXFLDHKTE1  0.036895  hk_industry_group   \n",
       "1358 2022-07-01  .TRXFLDHKTE2  -0.02825  hk_industry_group   \n",
       "\n",
       "                       name side  \n",
       "0     Energy - Fossil Fuels   NA  \n",
       "1     Energy - Fossil Fuels   NA  \n",
       "2     Energy - Fossil Fuels   NA  \n",
       "3     Energy - Fossil Fuels   NA  \n",
       "4     Energy - Fossil Fuels   NA  \n",
       "...                     ...  ...  \n",
       "1354       Renewable Energy   NA  \n",
       "1355  Energy - Fossil Fuels   NA  \n",
       "1356       Renewable Energy   NA  \n",
       "1357  Energy - Fossil Fuels   NA  \n",
       "1358       Renewable Energy   NA  \n",
       "\n",
       "[1359 rows x 6 columns]"
      ]
     },
     "execution_count": 8,
     "metadata": {},
     "output_type": "execute_result"
    }
   ],
   "source": [
    "con.get_group_data('hk_industry_group',rics=ric_dict['hk_industry_group'][1:3], \n",
    "                                proc_func=pct_chg, api_func=ek.get_timeseries, fields='CLOSE', interval='weekly',\n",
    "                                start_date='2005-01-01')"
   ]
  },
  {
   "cell_type": "code",
   "execution_count": null,
   "id": "5b3b728a",
   "metadata": {},
   "outputs": [],
   "source": []
  }
 ],
 "metadata": {
  "hide_input": false,
  "kernelspec": {
   "display_name": "Python 3 (ipykernel)",
   "language": "python",
   "name": "python3"
  },
  "language_info": {
   "codemirror_mode": {
    "name": "ipython",
    "version": 3
   },
   "file_extension": ".py",
   "mimetype": "text/x-python",
   "name": "python",
   "nbconvert_exporter": "python",
   "pygments_lexer": "ipython3",
   "version": "3.9.7"
  },
  "toc": {
   "base_numbering": 1,
   "nav_menu": {},
   "number_sections": true,
   "sideBar": true,
   "skip_h1_title": false,
   "title_cell": "Table of Contents",
   "title_sidebar": "Contents",
   "toc_cell": false,
   "toc_position": {},
   "toc_section_display": true,
   "toc_window_display": false
  },
  "varInspector": {
   "cols": {
    "lenName": 16,
    "lenType": 16,
    "lenVar": 40
   },
   "kernels_config": {
    "python": {
     "delete_cmd_postfix": "",
     "delete_cmd_prefix": "del ",
     "library": "var_list.py",
     "varRefreshCmd": "print(var_dic_list())"
    },
    "r": {
     "delete_cmd_postfix": ") ",
     "delete_cmd_prefix": "rm(",
     "library": "var_list.r",
     "varRefreshCmd": "cat(var_dic_list()) "
    }
   },
   "types_to_exclude": [
    "module",
    "function",
    "builtin_function_or_method",
    "instance",
    "_Feature"
   ],
   "window_display": false
  }
 },
 "nbformat": 4,
 "nbformat_minor": 5
}
